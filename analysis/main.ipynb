{
 "cells": [
  {
   "cell_type": "code",
   "execution_count": 2,
   "id": "06196a48-0e3d-4898-9491-93a9e70cbe65",
   "metadata": {},
   "outputs": [],
   "source": [
    "import numpy as np\n",
    "import pandas as pd\n",
    "import subprocess\n",
    "from pathlib import Path\n",
    "import json\n",
    "from pprint import pprint\n",
    "from tqdm import tqdm\n",
    "import sys\n",
    "from matplotlib import pyplot as plt\n",
    "import copy"
   ]
  },
  {
   "cell_type": "code",
   "execution_count": 3,
   "id": "2f15741c-2c52-470e-ba0d-a4e0d8b55da4",
   "metadata": {},
   "outputs": [
    {
     "name": "stdout",
     "output_type": "stream",
     "text": [
      "../dis-viz-backend/build/DisViz -j --no-server -b /home/insane/prapti/dis-viz/sample_inputs/bin/bubble-O3 -b /home/insane/prapti/dis-viz/sample_inputs/bin/multisource-O3 -b /home/insane/prapti/RAJAPerf/build/bin/raja-perf.exe\n",
      "Disassembling [██████████████████████████████████████████████████] [00m:00s<00m:00s] \n",
      "Disassembling [██████████████████████████████████████████████████] [00m:00s<00m:00s] \n",
      "Disassembling [██████████████████████████████████████████████████] [00m:18s<00m:00s] \n"
     ]
    },
    {
     "data": {
      "text/plain": [
       "0"
      ]
     },
     "execution_count": 3,
     "metadata": {},
     "output_type": "execute_result"
    }
   ],
   "source": [
    "BUILD_PATH = '../dis-viz-backend/build'\n",
    "\n",
    "binary_files = [ # must be absolute path\n",
    "    '/home/insane/prapti/dis-viz/sample_inputs/bin/bubble-O3',\n",
    "    '/home/insane/prapti/dis-viz/sample_inputs/bin/multisource-O3',\n",
    "    '/home/insane/prapti/RAJAPerf/build/bin/raja-perf.exe'\n",
    "]\n",
    "\n",
    "args = [f\"{BUILD_PATH}/DisViz\", \"-j\", \"--no-server\"]\n",
    "for bin in binary_files:\n",
    "    args.append('-b')\n",
    "    args.append(bin)\n",
    "\n",
    "print(' '.join(args))\n",
    "process = subprocess.Popen(args)\n",
    "process.wait()"
   ]
  },
  {
   "cell_type": "code",
   "execution_count": 4,
   "id": "454539be-138b-4004-9799-672e81d07c02",
   "metadata": {},
   "outputs": [
    {
     "name": "stdout",
     "output_type": "stream",
     "text": [
      "['raja-perf.exe', 'bubble-O3', 'multisource-O3']\n",
      "['functions', 'blocks_info']\n"
     ]
    }
   ],
   "source": [
    "result = {}\n",
    "for file in Path('json').glob('*'):\n",
    "    with open(file, 'r') as f:\n",
    "        result[file.stem] = json.load(f)\n",
    "\n",
    "print([k for k in result.keys()])\n",
    "sample = list(result.keys())[0]\n",
    "print([k for k in result[sample].keys()])"
   ]
  },
  {
   "cell_type": "code",
   "execution_count": 8,
   "id": "f94c2d58-585e-42ee-b36c-79c959dfb599",
   "metadata": {},
   "outputs": [],
   "source": [
    "bin_result = result['bubble-O3']"
   ]
  },
  {
   "cell_type": "code",
   "execution_count": 9,
   "id": "ad41d61e-0cc5-4950-b2d0-a89d68bed89b",
   "metadata": {},
   "outputs": [
    {
     "name": "stdout",
     "output_type": "stream",
     "text": [
      "main\n",
      "[{'callsite_file': '/home/insane/prapti/dis-viz/sample_inputs/bubble_sort.cpp',\n",
      "  'callsite_line': 34,\n",
      "  'name': 'std::basic_ostream<char, std::char_traits<char> >& std::operator<< '\n",
      "          '<std::char_traits<char> >(std::basic_ostream<char, '\n",
      "          'std::char_traits<char> >&, char const*)',\n",
      "  'ranges': [{'end': 4337, 'start': 4313}]}]\n"
     ]
    }
   ],
   "source": [
    "# Check if there is inlines\n",
    "for func in bin_result['functions']:\n",
    "    if 'inlines' in func:\n",
    "        print(func['name'])\n",
    "        pprint(func['inlines'])\n",
    "        break"
   ]
  },
  {
   "cell_type": "code",
   "execution_count": 6,
   "id": "d8a1be18-4a30-44e5-8839-0a2d73c0470e",
   "metadata": {},
   "outputs": [
    {
     "name": "stderr",
     "output_type": "stream",
     "text": [
      "100%|██████████████████████████████████████████████████████████████████████████████████████████████████| 5198/5198 [00:00<00:00, 3254028.69it/s]"
     ]
    },
    {
     "name": "stdout",
     "output_type": "stream",
     "text": [
      "2\n",
      "2\n",
      "2\n",
      "2\n",
      "2\n",
      "2\n"
     ]
    },
    {
     "name": "stderr",
     "output_type": "stream",
     "text": [
      "\n"
     ]
    }
   ],
   "source": [
    "for func in tqdm(bin_result['functions']):\n",
    "    if 'loops' in func:\n",
    "        for loop in func['loops']:\n",
    "            if len(loop['backedges']) > 1:\n",
    "                print(len(loop['backedges']))\n"
   ]
  },
  {
   "cell_type": "code",
   "execution_count": 7,
   "id": "a17417f5-ab60-4ebc-89d8-221d5d15efbe",
   "metadata": {},
   "outputs": [
    {
     "name": "stdout",
     "output_type": "stream",
     "text": [
      "Total number of blocks: 44096\n"
     ]
    },
    {
     "data": {
      "text/plain": [
       "Text(0, 0.5, 'Instructions')"
      ]
     },
     "execution_count": 7,
     "metadata": {},
     "output_type": "execute_result"
    },
    {
     "data": {
      "image/png": "[encoded data removed]",
      "text/plain": [
       "<Figure size 640x480 with 1 Axes>"
      ]
     },
     "metadata": {},
     "output_type": "display_data"
    }
   ],
   "source": [
    "blocks = bin_result['blocks_info']['memory_order_blocks']\n",
    "\n",
    "print(f\"Total number of blocks: {len(blocks)}\")\n",
    "plt.hist(list(map(lambda block: block['n_instructions'], blocks)))\n",
    "plt.title(\"Number of Instructions per block\")\n",
    "plt.xlabel(\"# block\")\n",
    "plt.ylabel(\"Instructions\")"
   ]
  },
  {
   "cell_type": "code",
   "execution_count": 8,
   "id": "878e84a9-231c-422c-bd5d-10289dc2405d",
   "metadata": {},
   "outputs": [
    {
     "name": "stdout",
     "output_type": "stream",
     "text": [
      "Total number of functions: 4885\n"
     ]
    },
    {
     "data": {
      "text/plain": [
       "Text(0, 0.5, 'Functions')"
      ]
     },
     "execution_count": 8,
     "metadata": {},
     "output_type": "execute_result"
    },
    {
     "data": {
      "image/png": "[encoded data removed]",
      "text/plain": [
       "<Figure size 640x480 with 1 Axes>"
      ]
     },
     "metadata": {},
     "output_type": "display_data"
    }
   ],
   "source": [
    "n_ins_per_function = {}\n",
    "\n",
    "for block in blocks:\n",
    "    if block['function_name'] not in n_ins_per_function:\n",
    "        n_ins_per_function[block['function_name']] = 0\n",
    "    n_ins_per_function[block['function_name']] += block['n_instructions']\n",
    "    \n",
    "print(f\"Total number of functions: {len(n_ins_per_function)}\")\n",
    "plt.hist(n_ins_per_function.values())\n",
    "plt.title(\"Number of Instructions per function\")\n",
    "plt.xlabel(\"Functions\")\n",
    "plt.ylabel(\"Instructions\")"
   ]
  },
  {
   "cell_type": "code",
   "execution_count": 9,
   "id": "2b884423-14a8-48e5-b8b9-01e76d89a8e9",
   "metadata": {},
   "outputs": [
    {
     "name": "stdout",
     "output_type": "stream",
     "text": [
      "Total number of files: 256\n"
     ]
    },
    {
     "data": {
      "text/plain": [
       "Text(0, 0.5, 'Files')"
      ]
     },
     "execution_count": 9,
     "metadata": {},
     "output_type": "execute_result"
    },
    {
     "data": {
      "image/png": "[encoded data removed]",
      "text/plain": [
       "<Figure size 640x480 with 1 Axes>"
      ]
     },
     "metadata": {},
     "output_type": "display_data"
    }
   ],
   "source": [
    "ins_count = {}\n",
    "block_count = {}\n",
    "\n",
    "for block in blocks:\n",
    "    for instruction in block['instructions']:\n",
    "        if 'correspondence' in instruction:\n",
    "            for file_name in instruction['correspondence'].keys():\n",
    "                if file_name not in ins_count:\n",
    "                    ins_count[file_name] = 0\n",
    "                    block_count[file_name] = 0\n",
    "                ins_count[file_name] += block['n_instructions']\n",
    "                block_count[file_name] += 1\n",
    "        \n",
    "        \n",
    "print(f\"Total number of files: {len(block_count)}\")\n",
    "plt.hist(ins_count.values())\n",
    "plt.title(\"Number of Instructions per file\")\n",
    "plt.xlabel(\"Instructions\")\n",
    "plt.ylabel(\"Files\")"
   ]
  },
  {
   "cell_type": "markdown",
   "id": "178cf2b3-5fc6-4822-a2dd-99e109157d25",
   "metadata": {
    "tags": []
   },
   "source": [
    "# Loop lengths (Number of instructions per loop)"
   ]
  },
  {
   "cell_type": "code",
   "execution_count": 10,
   "id": "0e6dd4aa-7303-453a-a8ad-754d0ca81bef",
   "metadata": {},
   "outputs": [],
   "source": [
    "def flatten(xs):\n",
    "    for x in xs:\n",
    "        if isinstance(x, list) and not isinstance(x, (str, bytes)):\n",
    "            yield from flatten(x)\n",
    "        else:\n",
    "            yield x"
   ]
  },
  {
   "cell_type": "code",
   "execution_count": 11,
   "id": "3f2710f1-7554-46c6-9714-5e937d4d3d7b",
   "metadata": {},
   "outputs": [
    {
     "name": "stdout",
     "output_type": "stream",
     "text": [
      "Total inner+outer loops 15564\n"
     ]
    },
    {
     "name": "stderr",
     "output_type": "stream",
     "text": [
      "100%|████████████████████████████████████████████████████████████████████████████████████████████████████| 15564/15564 [01:09<00:00, 222.41it/s]\n"
     ]
    },
    {
     "data": {
      "text/html": [
       "<div>\n",
       "<style scoped>\n",
       "    .dataframe tbody tr th:only-of-type {\n",
       "        vertical-align: middle;\n",
       "    }\n",
       "\n",
       "    .dataframe tbody tr th {\n",
       "        vertical-align: top;\n",
       "    }\n",
       "\n",
       "    .dataframe thead th {\n",
       "        text-align: right;\n",
       "    }\n",
       "</style>\n",
       "<table border=\"1\" class=\"dataframe\">\n",
       "  <thead>\n",
       "    <tr style=\"text-align: right;\">\n",
       "      <th></th>\n",
       "      <th>n_blocks</th>\n",
       "      <th>n_instructions</th>\n",
       "    </tr>\n",
       "  </thead>\n",
       "  <tbody>\n",
       "    <tr>\n",
       "      <th>0</th>\n",
       "      <td>3</td>\n",
       "      <td>6</td>\n",
       "    </tr>\n",
       "    <tr>\n",
       "      <th>1</th>\n",
       "      <td>6</td>\n",
       "      <td>23</td>\n",
       "    </tr>\n",
       "    <tr>\n",
       "      <th>2</th>\n",
       "      <td>3</td>\n",
       "      <td>8</td>\n",
       "    </tr>\n",
       "    <tr>\n",
       "      <th>3</th>\n",
       "      <td>23</td>\n",
       "      <td>85</td>\n",
       "    </tr>\n",
       "    <tr>\n",
       "      <th>4</th>\n",
       "      <td>12</td>\n",
       "      <td>38</td>\n",
       "    </tr>\n",
       "    <tr>\n",
       "      <th>...</th>\n",
       "      <td>...</td>\n",
       "      <td>...</td>\n",
       "    </tr>\n",
       "    <tr>\n",
       "      <th>15559</th>\n",
       "      <td>2</td>\n",
       "      <td>29</td>\n",
       "    </tr>\n",
       "    <tr>\n",
       "      <th>15560</th>\n",
       "      <td>2</td>\n",
       "      <td>29</td>\n",
       "    </tr>\n",
       "    <tr>\n",
       "      <th>15561</th>\n",
       "      <td>2</td>\n",
       "      <td>29</td>\n",
       "    </tr>\n",
       "    <tr>\n",
       "      <th>15562</th>\n",
       "      <td>2</td>\n",
       "      <td>29</td>\n",
       "    </tr>\n",
       "    <tr>\n",
       "      <th>15563</th>\n",
       "      <td>2</td>\n",
       "      <td>29</td>\n",
       "    </tr>\n",
       "  </tbody>\n",
       "</table>\n",
       "<p>15564 rows × 2 columns</p>\n",
       "</div>"
      ],
      "text/plain": [
       "       n_blocks  n_instructions\n",
       "0             3               6\n",
       "1             6              23\n",
       "2             3               8\n",
       "3            23              85\n",
       "4            12              38\n",
       "...         ...             ...\n",
       "15559         2              29\n",
       "15560         2              29\n",
       "15561         2              29\n",
       "15562         2              29\n",
       "15563         2              29\n",
       "\n",
       "[15564 rows x 2 columns]"
      ]
     },
     "execution_count": 11,
     "metadata": {},
     "output_type": "execute_result"
    }
   ],
   "source": [
    "loops = list(flatten(filter(lambda loop: loop, map(lambda fn: copy.deepcopy(fn['loops']) if 'loops' in fn else [], bin_result['functions']))))\n",
    "\n",
    "def flatten_inner_loops(loops):\n",
    "    for loop in loops:\n",
    "        if 'loops' in loop and loop['loops']:\n",
    "            loops += flatten_inner_loops(loop['loops'])\n",
    "    return loops\n",
    "    \n",
    "loops = flatten_inner_loops(loops)\n",
    "\n",
    "print(f\"Total inner+outer loops {len(loops)}\")\n",
    "\n",
    "loop_ids = list(range(len(loops)))\n",
    "\n",
    "n_blocks = list(map(lambda loop: len(loop['blocks']), loops))\n",
    "\n",
    "MAX_LOOPS = min(20000, len(loops))\n",
    "n_instructions = []\n",
    "for loop in tqdm(loops[:MAX_LOOPS]):\n",
    "    cur_n_instructions = 0\n",
    "    for block_number in loop['blocks']:\n",
    "        cur_n_instructions += next(block for block in blocks if block['name'] == block_number)['n_instructions']\n",
    "    n_instructions.append(cur_n_instructions)\n",
    "    \n",
    "df = pd.DataFrame(zip(n_blocks[:MAX_LOOPS], n_instructions), columns =[\"n_blocks\", \"n_instructions\"], index=loop_ids[:MAX_LOOPS])\n",
    "df"
   ]
  },
  {
   "cell_type": "code",
   "execution_count": 12,
   "id": "cd430ee5-bf96-42ec-9624-27a6f95c032b",
   "metadata": {},
   "outputs": [
    {
     "name": "stderr",
     "output_type": "stream",
     "text": [
      "15564it [03:13, 80.60it/s] "
     ]
    },
    {
     "name": "stdout",
     "output_type": "stream",
     "text": [
      "Total loops that contain non-consecutive blocks : 160/15564\n"
     ]
    },
    {
     "name": "stderr",
     "output_type": "stream",
     "text": [
      "\n"
     ]
    }
   ],
   "source": [
    "loop_blocks = list(map(lambda loop: sorted(loop['blocks']), loops))\n",
    "\n",
    "def loop_has_consecutive_blocks(loop, blocks):\n",
    "    start_block = min(filter(lambda block: block['name'] in loop, blocks), key=lambda block: block['start_address'])\n",
    "    sorted_blocks = sorted(blocks, key=lambda block: block['start_address'])\n",
    "    start_block_idx = next(idx for idx, block in enumerate(sorted_blocks) if block['name'] == start_block['name'])\n",
    "    \n",
    "    for i in range(1, len(loop)):\n",
    "        if sorted_blocks[start_block_idx + i]['name'] not in loop:\n",
    "            return False\n",
    "    return True\n",
    "\n",
    "loops_without_consecutive_blocks_idx = [idx for idx, loop_block in tqdm(enumerate(loop_blocks)) if not loop_has_consecutive_blocks(loop_block, blocks)]\n",
    "print(f\"Total loops that contain non-consecutive blocks : {len(loops_without_consecutive_blocks_idx)}/{len(loop_blocks)}\")"
   ]
  },
  {
   "cell_type": "code",
   "execution_count": 13,
   "id": "50e0f641-d79b-43ca-97be-97e20cb91b19",
   "metadata": {},
   "outputs": [],
   "source": [
    "#pprint([function for function in functions if function.name == 'rajaperf::KernelBase::hasVariantTuningDefined'][1].loops)"
   ]
  },
  {
   "cell_type": "code",
   "execution_count": 18,
   "id": "cf0d390b-8dd5-4ab0-9560-6528c2850834",
   "metadata": {},
   "outputs": [
    {
     "name": "stderr",
     "output_type": "stream",
     "text": [
      "100%|███████████████████████████████████████████████████| 160/160 [00:34<00:00,  4.66it/s]\n"
     ]
    }
   ],
   "source": [
    "non_consecutive_blocks_loop = []\n",
    "\n",
    "consec_blocks_loop = []\n",
    "nonconsec_blocks_loop = []\n",
    "\n",
    "for i in loops_without_consecutive_blocks_idx:\n",
    "    non_consecutive_blocks_loop.append(loop_blocks[i])\n",
    "\n",
    "for non_cons_block_loop in tqdm(non_consecutive_blocks_loop):\n",
    "    non_cons_blocks = []\n",
    "    for block_name in non_cons_block_loop:\n",
    "        for block in blocks:\n",
    "            if block['name'] == block_name:\n",
    "                non_cons_blocks.append(block)\n",
    "                break\n",
    "                \n",
    "    nonconsec_blocks_loop.append(non_cons_blocks)\n",
    "    non_cons_blocks.sort(key=lambda x: x['start_address'])\n",
    "    \n",
    "    first_block = non_cons_blocks[0]\n",
    "    last_block = non_cons_blocks[-1]\n",
    "    \n",
    "    sorted_blocks = sorted(blocks, key=lambda block: block['start_address'])\n",
    "    block_idx = next(idx for idx, block in enumerate(sorted_blocks) if block['name'] == first_block['name'])\n",
    "    \n",
    "    counter = 0\n",
    "    current_consec_blocks = []\n",
    "    for block in sorted_blocks[block_idx:]:\n",
    "        counter += 1\n",
    "        current_consec_blocks.append(block)\n",
    "        if block['name'] == last_block['name']:\n",
    "            break\n",
    "    consec_blocks_loop.append(current_consec_blocks)"
   ]
  },
  {
   "cell_type": "code",
   "execution_count": 19,
   "id": "fd1ba501-e6d3-4179-9ed1-1e3288dc600e",
   "metadata": {},
   "outputs": [
    {
     "name": "stdout",
     "output_type": "stream",
     "text": [
      "6\n",
      "6\n"
     ]
    }
   ],
   "source": [
    "for idx in loops_without_consecutive_blocks_idx[:2]:\n",
    "    pprint(len(loop_blocks[idx]))"
   ]
  },
  {
   "cell_type": "code",
   "execution_count": 20,
   "id": "0ab63ca2-cb1e-43da-8bbc-dcdb86bd891c",
   "metadata": {},
   "outputs": [
    {
     "data": {
      "text/plain": [
       "[['rajaperf::KernelBase::hasVariantTuningDefined: B2799',\n",
       "  'rajaperf::KernelBase::hasVariantTuningDefined: B2800',\n",
       "  'rajaperf::KernelBase::hasVariantTuningDefined: B2801',\n",
       "  'rajaperf::KernelBase::hasVariantTuningDefined: B2803',\n",
       "  'rajaperf::KernelBase::hasVariantTuningDefined: B2804',\n",
       "  'rajaperf::KernelBase::hasVariantTuningDefined: B2805'],\n",
       " ['rajaperf::KernelBase::getVariantTuningIndex: B2812',\n",
       "  'rajaperf::KernelBase::getVariantTuningIndex: B2813',\n",
       "  'rajaperf::KernelBase::getVariantTuningIndex: B2814',\n",
       "  'rajaperf::KernelBase::getVariantTuningIndex: B2816',\n",
       "  'rajaperf::KernelBase::getVariantTuningIndex: B2817',\n",
       "  'rajaperf::KernelBase::getVariantTuningIndex: B2818']]"
      ]
     },
     "execution_count": 20,
     "metadata": {},
     "output_type": "execute_result"
    }
   ],
   "source": [
    "non_consecutive_blocks_loop[:2]"
   ]
  },
  {
   "cell_type": "code",
   "execution_count": 22,
   "id": "64468d48-ff98-4615-83bb-4ea61f7210e1",
   "metadata": {},
   "outputs": [
    {
     "data": {
      "text/html": [
       "<div>\n",
       "<style scoped>\n",
       "    .dataframe tbody tr th:only-of-type {\n",
       "        vertical-align: middle;\n",
       "    }\n",
       "\n",
       "    .dataframe tbody tr th {\n",
       "        vertical-align: top;\n",
       "    }\n",
       "\n",
       "    .dataframe thead th {\n",
       "        text-align: right;\n",
       "    }\n",
       "</style>\n",
       "<table border=\"1\" class=\"dataframe\">\n",
       "  <thead>\n",
       "    <tr style=\"text-align: right;\">\n",
       "      <th></th>\n",
       "      <th>Skipped Blocks</th>\n",
       "      <th>Loop Counts</th>\n",
       "    </tr>\n",
       "  </thead>\n",
       "  <tbody>\n",
       "    <tr>\n",
       "      <th>0</th>\n",
       "      <td>2</td>\n",
       "      <td>66</td>\n",
       "    </tr>\n",
       "    <tr>\n",
       "      <th>3</th>\n",
       "      <td>3</td>\n",
       "      <td>14</td>\n",
       "    </tr>\n",
       "    <tr>\n",
       "      <th>1</th>\n",
       "      <td>4</td>\n",
       "      <td>25</td>\n",
       "    </tr>\n",
       "    <tr>\n",
       "      <th>2</th>\n",
       "      <td>5</td>\n",
       "      <td>15</td>\n",
       "    </tr>\n",
       "    <tr>\n",
       "      <th>7</th>\n",
       "      <td>6</td>\n",
       "      <td>3</td>\n",
       "    </tr>\n",
       "    <tr>\n",
       "      <th>5</th>\n",
       "      <td>7</td>\n",
       "      <td>5</td>\n",
       "    </tr>\n",
       "    <tr>\n",
       "      <th>4</th>\n",
       "      <td>8</td>\n",
       "      <td>6</td>\n",
       "    </tr>\n",
       "    <tr>\n",
       "      <th>26</th>\n",
       "      <td>9</td>\n",
       "      <td>1</td>\n",
       "    </tr>\n",
       "    <tr>\n",
       "      <th>6</th>\n",
       "      <td>10</td>\n",
       "      <td>4</td>\n",
       "    </tr>\n",
       "    <tr>\n",
       "      <th>8</th>\n",
       "      <td>11</td>\n",
       "      <td>2</td>\n",
       "    </tr>\n",
       "    <tr>\n",
       "      <th>25</th>\n",
       "      <td>16</td>\n",
       "      <td>1</td>\n",
       "    </tr>\n",
       "    <tr>\n",
       "      <th>23</th>\n",
       "      <td>18</td>\n",
       "      <td>1</td>\n",
       "    </tr>\n",
       "    <tr>\n",
       "      <th>22</th>\n",
       "      <td>21</td>\n",
       "      <td>1</td>\n",
       "    </tr>\n",
       "    <tr>\n",
       "      <th>9</th>\n",
       "      <td>36</td>\n",
       "      <td>2</td>\n",
       "    </tr>\n",
       "    <tr>\n",
       "      <th>12</th>\n",
       "      <td>37</td>\n",
       "      <td>1</td>\n",
       "    </tr>\n",
       "    <tr>\n",
       "      <th>24</th>\n",
       "      <td>56</td>\n",
       "      <td>1</td>\n",
       "    </tr>\n",
       "    <tr>\n",
       "      <th>17</th>\n",
       "      <td>77</td>\n",
       "      <td>1</td>\n",
       "    </tr>\n",
       "    <tr>\n",
       "      <th>27</th>\n",
       "      <td>79</td>\n",
       "      <td>1</td>\n",
       "    </tr>\n",
       "    <tr>\n",
       "      <th>13</th>\n",
       "      <td>80</td>\n",
       "      <td>1</td>\n",
       "    </tr>\n",
       "    <tr>\n",
       "      <th>18</th>\n",
       "      <td>84</td>\n",
       "      <td>1</td>\n",
       "    </tr>\n",
       "    <tr>\n",
       "      <th>10</th>\n",
       "      <td>93</td>\n",
       "      <td>1</td>\n",
       "    </tr>\n",
       "    <tr>\n",
       "      <th>19</th>\n",
       "      <td>94</td>\n",
       "      <td>1</td>\n",
       "    </tr>\n",
       "    <tr>\n",
       "      <th>16</th>\n",
       "      <td>123</td>\n",
       "      <td>1</td>\n",
       "    </tr>\n",
       "    <tr>\n",
       "      <th>21</th>\n",
       "      <td>138</td>\n",
       "      <td>1</td>\n",
       "    </tr>\n",
       "    <tr>\n",
       "      <th>20</th>\n",
       "      <td>159</td>\n",
       "      <td>1</td>\n",
       "    </tr>\n",
       "    <tr>\n",
       "      <th>15</th>\n",
       "      <td>181</td>\n",
       "      <td>1</td>\n",
       "    </tr>\n",
       "    <tr>\n",
       "      <th>14</th>\n",
       "      <td>205</td>\n",
       "      <td>1</td>\n",
       "    </tr>\n",
       "    <tr>\n",
       "      <th>11</th>\n",
       "      <td>206</td>\n",
       "      <td>1</td>\n",
       "    </tr>\n",
       "  </tbody>\n",
       "</table>\n",
       "</div>"
      ],
      "text/plain": [
       "    Skipped Blocks  Loop Counts\n",
       "0                2           66\n",
       "3                3           14\n",
       "1                4           25\n",
       "2                5           15\n",
       "7                6            3\n",
       "5                7            5\n",
       "4                8            6\n",
       "26               9            1\n",
       "6               10            4\n",
       "8               11            2\n",
       "25              16            1\n",
       "23              18            1\n",
       "22              21            1\n",
       "9               36            2\n",
       "12              37            1\n",
       "24              56            1\n",
       "17              77            1\n",
       "27              79            1\n",
       "13              80            1\n",
       "18              84            1\n",
       "10              93            1\n",
       "19              94            1\n",
       "16             123            1\n",
       "21             138            1\n",
       "20             159            1\n",
       "15             181            1\n",
       "14             205            1\n",
       "11             206            1"
      ]
     },
     "execution_count": 22,
     "metadata": {},
     "output_type": "execute_result"
    }
   ],
   "source": [
    "len_diff_loops = []\n",
    "for cons_loop, noncons_loop in zip(consec_blocks_loop, nonconsec_blocks_loop):\n",
    "    len_diff_loops.append(len(cons_loop) - len(noncons_loop))\n",
    "\n",
    "df = pd.DataFrame(len_diff_loops, columns =[\"skipped_blocks\"])\n",
    "df_hist = df.skipped_blocks.value_counts().reset_index().rename(columns={'index': 'Skipped Blocks', 'skipped_blocks': 'Loop Counts'})\n",
    "df_hist.sort_values(by=['Skipped Blocks'])"
   ]
  },
  {
   "cell_type": "code",
   "execution_count": 25,
   "id": "ebc83152-d5b7-4956-bac4-619ac0c04a88",
   "metadata": {},
   "outputs": [
    {
     "data": {
      "text/plain": [
       "Text(0, 0.5, '')"
      ]
     },
     "execution_count": 25,
     "metadata": {},
     "output_type": "execute_result"
    },
    {
     "data": {
      "image/png": "[encoded data removed]",
      "text/plain": [
       "<Figure size 640x480 with 1 Axes>"
      ]
     },
     "metadata": {},
     "output_type": "display_data"
    }
   ],
   "source": [
    "# px.histogram(df, x='skipped_blocks', title=\"Skipped Blocks\", labels={'x':'skipped_blocks'}, nbins=100)\n",
    "\n",
    "plt.hist(df['skipped_blocks'])\n",
    "plt.title(\"Skipped Blocks\")\n",
    "plt.xlabel(\"skipped_blocks\")\n",
    "plt.ylabel(\"\")"
   ]
  },
  {
   "cell_type": "code",
   "execution_count": 30,
   "id": "088fb2f7-fc64-4fc9-9c4f-f80955c4e6fb",
   "metadata": {},
   "outputs": [
    {
     "name": "stdout",
     "output_type": "stream",
     "text": [
      "Some of the non-consecutive block loops are: \n",
      "['rajaperf::KernelBase::hasVariantTuningDefined: B2799',\n",
      " 'rajaperf::KernelBase::hasVariantTuningDefined: B2800',\n",
      " 'rajaperf::KernelBase::hasVariantTuningDefined: B2801',\n",
      " 'rajaperf::KernelBase::hasVariantTuningDefined: B2803',\n",
      " 'rajaperf::KernelBase::hasVariantTuningDefined: B2804',\n",
      " 'rajaperf::KernelBase::hasVariantTuningDefined: B2805']\n",
      "['rajaperf::KernelBase::getVariantTuningIndex: B2812',\n",
      " 'rajaperf::KernelBase::getVariantTuningIndex: B2813',\n",
      " 'rajaperf::KernelBase::getVariantTuningIndex: B2814',\n",
      " 'rajaperf::KernelBase::getVariantTuningIndex: B2816',\n",
      " 'rajaperf::KernelBase::getVariantTuningIndex: B2817',\n",
      " 'rajaperf::KernelBase::getVariantTuningIndex: B2818']\n",
      "['std::_Hashtable<std::__cxx11::basic_string<char, std::char_traits<char>, '\n",
      " 'std::allocator<char> >, std::pair<std::__cxx11::basic_string<char, '\n",
      " 'std::char_traits<char>, std::allocator<char> > const, unsigned long>, '\n",
      " 'std::allocator<std::pair<std::__cxx11::basic_string<char, '\n",
      " 'std::char_traits<char>, std::allocator<char> > const, unsigned long> >, '\n",
      " 'std::__detail::_Select1st, std::equal_to<std::__cxx11::basic_string<char, '\n",
      " 'std::char_traits<char>, std::allocator<char> > >, '\n",
      " 'std::hash<std::__cxx11::basic_string<char, std::char_traits<char>, '\n",
      " 'std::allocator<char> > >, std::__detail::_Mod_range_hashing, '\n",
      " 'std::__detail::_Default_ranged_hash, std::__detail::_Prime_rehash_policy, '\n",
      " 'std::__detail::_Hashtable_traits<true, false, true> >::find: B4388',\n",
      " 'std::_Hashtable<std::__cxx11::basic_string<char, std::char_traits<char>, '\n",
      " 'std::allocator<char> >, std::pair<std::__cxx11::basic_string<char, '\n",
      " 'std::char_traits<char>, std::allocator<char> > const, unsigned long>, '\n",
      " 'std::allocator<std::pair<std::__cxx11::basic_string<char, '\n",
      " 'std::char_traits<char>, std::allocator<char> > const, unsigned long> >, '\n",
      " 'std::__detail::_Select1st, std::equal_to<std::__cxx11::basic_string<char, '\n",
      " 'std::char_traits<char>, std::allocator<char> > >, '\n",
      " 'std::hash<std::__cxx11::basic_string<char, std::char_traits<char>, '\n",
      " 'std::allocator<char> > >, std::__detail::_Mod_range_hashing, '\n",
      " 'std::__detail::_Default_ranged_hash, std::__detail::_Prime_rehash_policy, '\n",
      " 'std::__detail::_Hashtable_traits<true, false, true> >::find: B4389',\n",
      " 'std::_Hashtable<std::__cxx11::basic_string<char, std::char_traits<char>, '\n",
      " 'std::allocator<char> >, std::pair<std::__cxx11::basic_string<char, '\n",
      " 'std::char_traits<char>, std::allocator<char> > const, unsigned long>, '\n",
      " 'std::allocator<std::pair<std::__cxx11::basic_string<char, '\n",
      " 'std::char_traits<char>, std::allocator<char> > const, unsigned long> >, '\n",
      " 'std::__detail::_Select1st, std::equal_to<std::__cxx11::basic_string<char, '\n",
      " 'std::char_traits<char>, std::allocator<char> > >, '\n",
      " 'std::hash<std::__cxx11::basic_string<char, std::char_traits<char>, '\n",
      " 'std::allocator<char> > >, std::__detail::_Mod_range_hashing, '\n",
      " 'std::__detail::_Default_ranged_hash, std::__detail::_Prime_rehash_policy, '\n",
      " 'std::__detail::_Hashtable_traits<true, false, true> >::find: B4391',\n",
      " 'std::_Hashtable<std::__cxx11::basic_string<char, std::char_traits<char>, '\n",
      " 'std::allocator<char> >, std::pair<std::__cxx11::basic_string<char, '\n",
      " 'std::char_traits<char>, std::allocator<char> > const, unsigned long>, '\n",
      " 'std::allocator<std::pair<std::__cxx11::basic_string<char, '\n",
      " 'std::char_traits<char>, std::allocator<char> > const, unsigned long> >, '\n",
      " 'std::__detail::_Select1st, std::equal_to<std::__cxx11::basic_string<char, '\n",
      " 'std::char_traits<char>, std::allocator<char> > >, '\n",
      " 'std::hash<std::__cxx11::basic_string<char, std::char_traits<char>, '\n",
      " 'std::allocator<char> > >, std::__detail::_Mod_range_hashing, '\n",
      " 'std::__detail::_Default_ranged_hash, std::__detail::_Prime_rehash_policy, '\n",
      " 'std::__detail::_Hashtable_traits<true, false, true> >::find: B4392',\n",
      " 'std::_Hashtable<std::__cxx11::basic_string<char, std::char_traits<char>, '\n",
      " 'std::allocator<char> >, std::pair<std::__cxx11::basic_string<char, '\n",
      " 'std::char_traits<char>, std::allocator<char> > const, unsigned long>, '\n",
      " 'std::allocator<std::pair<std::__cxx11::basic_string<char, '\n",
      " 'std::char_traits<char>, std::allocator<char> > const, unsigned long> >, '\n",
      " 'std::__detail::_Select1st, std::equal_to<std::__cxx11::basic_string<char, '\n",
      " 'std::char_traits<char>, std::allocator<char> > >, '\n",
      " 'std::hash<std::__cxx11::basic_string<char, std::char_traits<char>, '\n",
      " 'std::allocator<char> > >, std::__detail::_Mod_range_hashing, '\n",
      " 'std::__detail::_Default_ranged_hash, std::__detail::_Prime_rehash_policy, '\n",
      " 'std::__detail::_Hashtable_traits<true, false, true> >::find: B4393',\n",
      " 'std::_Hashtable<std::__cxx11::basic_string<char, std::char_traits<char>, '\n",
      " 'std::allocator<char> >, std::pair<std::__cxx11::basic_string<char, '\n",
      " 'std::char_traits<char>, std::allocator<char> > const, unsigned long>, '\n",
      " 'std::allocator<std::pair<std::__cxx11::basic_string<char, '\n",
      " 'std::char_traits<char>, std::allocator<char> > const, unsigned long> >, '\n",
      " 'std::__detail::_Select1st, std::equal_to<std::__cxx11::basic_string<char, '\n",
      " 'std::char_traits<char>, std::allocator<char> > >, '\n",
      " 'std::hash<std::__cxx11::basic_string<char, std::char_traits<char>, '\n",
      " 'std::allocator<char> > >, std::__detail::_Mod_range_hashing, '\n",
      " 'std::__detail::_Default_ranged_hash, std::__detail::_Prime_rehash_policy, '\n",
      " 'std::__detail::_Hashtable_traits<true, false, true> >::find: B4394']\n"
     ]
    }
   ],
   "source": [
    "print(\"Some of the non-consecutive block loops are: \")\n",
    "for idx in loops_without_consecutive_blocks_idx[:3]:\n",
    "    pprint(loop_blocks[idx])"
   ]
  },
  {
   "cell_type": "code",
   "execution_count": null,
   "id": "dd5bd07b-1279-4002-8e29-66b21e56432d",
   "metadata": {},
   "outputs": [],
   "source": []
  }
 ],
 "metadata": {
  "kernelspec": {
   "display_name": "Python 3 (ipykernel)",
   "language": "python",
   "name": "python3"
  },
  "language_info": {
   "codemirror_mode": {
    "name": "ipython",
    "version": 3
   },
   "file_extension": ".py",
   "mimetype": "text/x-python",
   "name": "python",
   "nbconvert_exporter": "python",
   "pygments_lexer": "ipython3",
   "version": "3.11.3"
  }
 },
 "nbformat": 4,
 "nbformat_minor": 5
}
